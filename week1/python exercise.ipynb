{
 "cells": [
  {
   "cell_type": "code",
   "execution_count": 1,
   "id": "824f278d-439d-4786-a60d-7d82c7797007",
   "metadata": {},
   "outputs": [],
   "source": [
    "class Book():\n",
    "    def __init__(self, title, author):\n",
    "        self.title = title\n",
    "        self.author = author\n",
    "\n",
    "    def has_author():\n",
    "        if self.author:\n",
    "            return True\n",
    "        else:\n",
    "            return False"
   ]
  },
  {
   "cell_type": "code",
   "execution_count": 18,
   "id": "ce1eaca3-74a6-45c0-b3f5-223999ddc9a9",
   "metadata": {},
   "outputs": [],
   "source": [
    "class BookShelf():\n",
    "    def __init__(self, books):\n",
    "        self.books = books\n",
    "\n",
    "    def unique_authors(self):\n",
    "        yield from {book.author for book in self.books if book.author}"
   ]
  },
  {
   "cell_type": "code",
   "execution_count": 23,
   "id": "56371131-2333-4faa-9e10-9262a215e2b9",
   "metadata": {},
   "outputs": [],
   "source": [
    "book_list = [Book(1, 'first'), Book(2, 'second'), Book(1, 'first')]"
   ]
  },
  {
   "cell_type": "code",
   "execution_count": 24,
   "id": "cb39d5ae-57e5-41c7-bf5a-375901ff7a95",
   "metadata": {},
   "outputs": [],
   "source": [
    "import time"
   ]
  },
  {
   "cell_type": "code",
   "execution_count": 26,
   "id": "fc961a52-97cd-4e56-81f4-61bbf73e910b",
   "metadata": {},
   "outputs": [
    {
     "name": "stdout",
     "output_type": "stream",
     "text": [
      "first\n",
      "second\n"
     ]
    }
   ],
   "source": [
    "for author in BookShelf(book_list).unique_authors():\n",
    "    print(author)\n",
    "    time.sleep(1)"
   ]
  },
  {
   "cell_type": "code",
   "execution_count": null,
   "id": "a47a6761-9e5a-4ab2-b036-8f4f6acec3c8",
   "metadata": {},
   "outputs": [],
   "source": []
  },
  {
   "cell_type": "code",
   "execution_count": null,
   "id": "41b86805-ad43-41a8-8420-e09627776747",
   "metadata": {},
   "outputs": [],
   "source": []
  }
 ],
 "metadata": {
  "kernelspec": {
   "display_name": "Python 3 (ipykernel)",
   "language": "python",
   "name": "python3"
  },
  "language_info": {
   "codemirror_mode": {
    "name": "ipython",
    "version": 3
   },
   "file_extension": ".py",
   "mimetype": "text/x-python",
   "name": "python",
   "nbconvert_exporter": "python",
   "pygments_lexer": "ipython3",
   "version": "3.11.11"
  }
 },
 "nbformat": 4,
 "nbformat_minor": 5
}
