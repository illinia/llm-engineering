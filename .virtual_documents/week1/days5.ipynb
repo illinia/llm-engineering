from dotenv import load_dotenv
import os
from openai import OpenAI
from bs4 import BeautifulSoup
import requests
import json


load_dotenv(override=True)
api_key = os.getenv('OPENAI_API_KEY')

if api_key and api_key.startswith('sk-proj-') and len(api_key) > 10:
    print("Good")
else:
    print("Bad")

MODEL = 'gpt-4o-mini'
opanai = OpenAI()


headers = {
 "User-Agent": "Mozilla/5.0 (Windows NT 10.0; Win64; x64) AppleWebKit/537.36 (KHTML, like Gecko) Chrome/117.0.0.0 Safari/537.36"
}

class Website:

    def __init__(self, url):
        self.url = url
        response = requests.get(url, headers=headers)
        self.body = response.content
        soup = BeautifulSoup(self.body, 'html.parser')
        self.title = soup.title.string if soup.title else "No title found"
        if soup.body:
            for irrelevant in soup.body(['script', 'style', 'img', 'input']):
                irrelevant.decompose()
            self.text = soup.body.get_text(separator='\n', strip=True)
        else:
            self.text = ''
        links = [link.get('href') for link in soup.find_all('a')]
        self.links = [link for link in links if link]

    def get_contents(self):
        return f"Webpage Title:\n{self.title}\nWebpage Contents:\n{self.text}\n\n"


ed = Website("https://edwarddonner.com")
ed.links


link_system_prompt = "웹페이지에서 찾은 링크 목록이 제공됩니다. \
회사 브로셔에 포함할 가장 관련성 있는 링크를 결정할 수 있습니다. \
such as links to an About page, or a Company page, or Careers/Jobs pages.\n"
link_system_prompt += "이 예와 같이 JSON으로 응답해야 합니다.:"
link_system_prompt += """
{
    "links": [
        {"type": "about page", "url": "https://full.url/goes/here/about"},
        {"type": "careers page": "url": "https://another.full.url/careers"}
    ]
}
"""


print(link_system_prompt)


def get_links_user_prompt(website):
    user_prompt = f"다음은 웹사이트의 링크 목록입니다. {website.url} - "
    user_prompt += "회사 소개 브로셔에 대한 관련 웹 링크가 어느 것인지 결정하여 JSON 형식의 전체 https URL을 응답해 주세요. \
서비스 약관, 개인정보 보호정책, 이메일 링크는 포함하지 마세요.\n"
    user_prompt += "링크(일부는 상대 링크일 수 있음):\n"
    user_prompt += "\n".join(website.links)
    return user_prompt


print(get_links_user_prompt(ed))


def get_links(url):
    website = Website(url)
    response = openai.chat.completions.create(
        model=MODEL,
        messages=[
            {"role": "system", "content": link_system_prompt},
            {"role": "user", "content": get_links_user_prompt(website)}
        ],
        response_format={"type": "json_object"}
    )
    result = response.choices[0].message.content
    return json.loads(result)


huggingface = Website("https://huggingface.co")
huggingface.links


get_links('https://huggingface.co')



